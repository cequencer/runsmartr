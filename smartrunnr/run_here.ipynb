{
 "metadata": {
  "name": "",
  "signature": "sha256:622aad1eeb7e4fe5eab204d8a7244418c6e95d3964fec2d6db6b5d4d8ab3856b"
 },
 "nbformat": 3,
 "nbformat_minor": 0,
 "worksheets": [
  {
   "cells": [
    {
     "cell_type": "heading",
     "level": 3,
     "metadata": {},
     "source": [
      "Initial imports"
     ]
    },
    {
     "cell_type": "code",
     "collapsed": false,
     "input": [
      "%load_ext autoreload\n",
      "%autoreload 2\n",
      "%matplotlib inline"
     ],
     "language": "python",
     "metadata": {},
     "outputs": [
      {
       "output_type": "stream",
       "stream": "stdout",
       "text": [
        "The autoreload extension is already loaded. To reload it, use:\n",
        "  %reload_ext autoreload\n"
       ]
      }
     ],
     "prompt_number": 74
    },
    {
     "cell_type": "code",
     "collapsed": false,
     "input": [
      "import json\n",
      "from credentials import cred"
     ],
     "language": "python",
     "metadata": {},
     "outputs": [],
     "prompt_number": 2
    },
    {
     "cell_type": "heading",
     "level": 3,
     "metadata": {},
     "source": [
      "Initialize geocoder"
     ]
    },
    {
     "cell_type": "code",
     "collapsed": false,
     "input": [
      "import geopy.geocoders\n",
      "geocoder = geopy.geocoders.GoogleV3(**cred['google'])"
     ],
     "language": "python",
     "metadata": {},
     "outputs": [],
     "prompt_number": 3
    },
    {
     "cell_type": "markdown",
     "metadata": {},
     "source": [
      "geocoder example"
     ]
    },
    {
     "cell_type": "code",
     "collapsed": false,
     "input": [
      "address = 'edgewater apartments, san francisco'\n",
      "location = geocoder.geocode(address)\n",
      "latlng = ((location.latitude, location.longitude))\n",
      "print latlng"
     ],
     "language": "python",
     "metadata": {},
     "outputs": [
      {
       "output_type": "stream",
       "stream": "stdout",
       "text": [
        "(33.0140559, -96.7286925)\n"
       ]
      }
     ],
     "prompt_number": 4
    },
    {
     "cell_type": "heading",
     "level": 3,
     "metadata": {},
     "source": [
      "Create object to query my RunHere database"
     ]
    },
    {
     "cell_type": "code",
     "collapsed": false,
     "input": [
      "import runhere_queries as rh\n",
      "rh_db = rh.RunHereDB()"
     ],
     "language": "python",
     "metadata": {},
     "outputs": [],
     "prompt_number": 5
    },
    {
     "cell_type": "markdown",
     "metadata": {},
     "source": [
      "Initialize Folium Map"
     ]
    },
    {
     "cell_type": "code",
     "collapsed": false,
     "input": [
      "from IPython.display import HTML\n",
      "import folium\n",
      "def embed_map(map, path='map.html'):\n",
      "    map.create_map(path=path)\n",
      "    return HTML('<iframe src=\"files/{path}\" style=\"width: 600px; height: 600px; border: none\"></iframe>'.format(path=path))"
     ],
     "language": "python",
     "metadata": {},
     "outputs": [],
     "prompt_number": 2
    },
    {
     "cell_type": "heading",
     "level": 2,
     "metadata": {},
     "source": [
      "Validating Runs Records"
     ]
    },
    {
     "cell_type": "markdown",
     "metadata": {},
     "source": [
      "Criteria:\n",
      "(1) remains within 30 m of a highway\n",
      "[(2) has a major-axis length greater than some threshold\n",
      "(3) has a number of points greater than some threshold]"
     ]
    },
    {
     "cell_type": "heading",
     "level": 3,
     "metadata": {},
     "source": [
      "Some runs that meet (1)"
     ]
    },
    {
     "cell_type": "markdown",
     "metadata": {},
     "source": [
      "`query = '''\n",
      "SELECT COUNT(*)\n",
      "FROM routes_potrero_hill;'''\n",
      "print rh_db.query_raw(query)`"
     ]
    },
    {
     "cell_type": "markdown",
     "metadata": {},
     "source": [
      "`query = '''\n",
      "SELECT COUNT(*)\n",
      "FROM routes_potrero_hill, highways_buffered\n",
      "WHERE ST_Within(linestring, the_geom);'''\n",
      "print rh_db.query_raw(query)`"
     ]
    },
    {
     "cell_type": "code",
     "collapsed": false,
     "input": [
      "centroid, route = rh_db.fetch_valid_run(1)"
     ],
     "language": "python",
     "metadata": {},
     "outputs": [],
     "prompt_number": 7
    },
    {
     "cell_type": "heading",
     "level": 3,
     "metadata": {},
     "source": [
      "Some runs that do NOT meet (1)"
     ]
    },
    {
     "cell_type": "markdown",
     "metadata": {},
     "source": [
      "`map_sf = folium.Map(location=centroid, tiles='Stamen Toner',\n",
      "                    width=600, height=600, zoom_start=14)\n",
      "map_sf.geo_json(geo_str=rh_db.highways_buffered(),\n",
      "                fill_color='green')\n",
      "map_sf.geo_json(geo_str=route, line_color='red', line_weight=3)\n",
      "map_sf.create_map(path='stamen_toner.html')\n",
      "embed_map(map_sf)`"
     ]
    },
    {
     "cell_type": "markdown",
     "metadata": {},
     "source": [
      "`query = '''\n",
      "SELECT ST_AsGeoJSON(linestring)\n",
      "FROM routes_potrero_hill, highways_buffered\n",
      "WHERE NOT ST_Within(linestring, the_geom)\n",
      "LIMIT 1 OFFSET 20;'''\n",
      "runs = rh_db.query_raw(query)`"
     ]
    },
    {
     "cell_type": "markdown",
     "metadata": {},
     "source": [
      "Criterion (1) seems to give a lot of false negatives (buffer size 20 m).  Approximately 10% valid."
     ]
    },
    {
     "cell_type": "markdown",
     "metadata": {},
     "source": [
      "Increased buffer size to 30 m.  Still getting lots of false negatives, but approximately 40% of all routes are now considered valid, and the ones that miss actually seem to stray off the walkable roadway that OSM knows about (not just into someone's driveway), however usually only for a small portion of the run.  I can tweak this later, but it works well enough for now."
     ]
    },
    {
     "cell_type": "heading",
     "level": 2,
     "metadata": {},
     "source": [
      "Debug SGD Route-finding Algorithm"
     ]
    },
    {
     "cell_type": "code",
     "collapsed": false,
     "input": [
      "from routing_queries import RoutingDB"
     ],
     "language": "python",
     "metadata": {},
     "outputs": [],
     "prompt_number": 95
    },
    {
     "cell_type": "code",
     "collapsed": false,
     "input": [
      "rdb = RoutingDB()"
     ],
     "language": "python",
     "metadata": {},
     "outputs": [],
     "prompt_number": 96
    },
    {
     "cell_type": "code",
     "collapsed": false,
     "input": [
      "rdb.rand_rnode_within_m(2249856376, 1000)"
     ],
     "language": "python",
     "metadata": {},
     "outputs": [
      {
       "metadata": {},
       "output_type": "pyout",
       "prompt_number": 112,
       "text": [
        "590986656L"
       ]
      }
     ],
     "prompt_number": 112
    },
    {
     "cell_type": "code",
     "collapsed": false,
     "input": [
      "from route import Router"
     ],
     "language": "python",
     "metadata": {},
     "outputs": [],
     "prompt_number": 113
    },
    {
     "cell_type": "code",
     "collapsed": false,
     "input": [
      "r = Router()"
     ],
     "language": "python",
     "metadata": {},
     "outputs": [],
     "prompt_number": 114
    },
    {
     "cell_type": "code",
     "collapsed": false,
     "input": [
      "n1 = r.data.find_rnode_address('355 berry st san francisco')\n",
      "n2 = r.data.find_rnode_address('ferry building san francisco')\n",
      "print n1, n2"
     ],
     "language": "python",
     "metadata": {},
     "outputs": [
      {
       "output_type": "stream",
       "stream": "stdout",
       "text": [
        "2249856376 1998722519\n"
       ]
      }
     ],
     "prompt_number": 115
    },
    {
     "cell_type": "code",
     "collapsed": false,
     "input": [
      "print r.doRoute(n1, n2)"
     ],
     "language": "python",
     "metadata": {},
     "outputs": [
      {
       "output_type": "stream",
       "stream": "stdout",
       "text": [
        "747\n",
        "('success', [2249856376, 595774117, 666613371, 666613372, 666613373, 666613374, 666613375, 666613376, 666613377, 666613378, 666613379, 65355330, 590986990, 945301300, 2101121555, 666571224, 260193155, 2101121561, 603369648, 1622597956, 260193156, 945302892, 260193242, 257316060, 763669337, 317129790, 1865053220, 260193243, 763669390, 763669382, 276549468, 763669383, 260193244, 763669384, 260193246, 1723633920, 260193349, 763663712, 763663714, 763663715, 763663716, 763663717, 763663733, 763663734, 763663735, 763663736, 65315452, 2071280050, 65290178, 2071280038, 763663896, 65330584, 763663897, 763663898, 65330580, 763662647, 65330577, 65330575, 65330572, 65330569, 763662533, 763662534, 65330567, 65317703, 311437023, 2071280040, 2071280049, 763662674, 2071280053, 2071280048, 2071280046, 2071280044, 2071280045, 2071280054, 2071280056, 2071280041, 2071280058, 2071280042, 311437032, 1742314618, 1742314619, 1742314630, 1742314635, 1742314637, 1206800474, 1206800456, 833665806, 833665805, 1998722519])\n"
       ]
      }
     ],
     "prompt_number": 118
    },
    {
     "cell_type": "code",
     "collapsed": false,
     "input": [
      "from runrouter import RunRouter\n",
      "rr = RunRouter()"
     ],
     "language": "python",
     "metadata": {},
     "outputs": [],
     "prompt_number": 147
    },
    {
     "cell_type": "code",
     "collapsed": false,
     "input": [
      "rr.initialize_search('355 berry st, san francisco', 3*1600)"
     ],
     "language": "python",
     "metadata": {},
     "outputs": [
      {
       "output_type": "stream",
       "stream": "stdout",
       "text": [
        "2\n",
        "success\n",
        "17\n",
        "success\n",
        "9\n",
        "success\n"
       ]
      }
     ],
     "prompt_number": 148
    },
    {
     "cell_type": "code",
     "collapsed": false,
     "input": [
      "rr.step()"
     ],
     "language": "python",
     "metadata": {},
     "outputs": [
      {
       "output_type": "stream",
       "stream": "stdout",
       "text": [
        "93\n",
        "success\n",
        "35"
       ]
      },
      {
       "output_type": "stream",
       "stream": "stdout",
       "text": [
        "\n",
        "success\n",
        "61"
       ]
      },
      {
       "output_type": "stream",
       "stream": "stdout",
       "text": [
        "\n",
        "success\n",
        "try step\n",
        "94"
       ]
      },
      {
       "output_type": "stream",
       "stream": "stdout",
       "text": [
        "\n",
        "success\n",
        "16\n",
        "success\n",
        "20"
       ]
      },
      {
       "output_type": "stream",
       "stream": "stdout",
       "text": [
        "\n",
        "success\n",
        "try step\n",
        "82"
       ]
      },
      {
       "output_type": "stream",
       "stream": "stdout",
       "text": [
        "\n",
        "success\n",
        "37"
       ]
      },
      {
       "output_type": "stream",
       "stream": "stdout",
       "text": [
        "\n",
        "success\n",
        "64"
       ]
      },
      {
       "output_type": "stream",
       "stream": "stdout",
       "text": [
        "\n",
        "success\n",
        "try step\n",
        "74"
       ]
      },
      {
       "output_type": "stream",
       "stream": "stdout",
       "text": [
        "\n",
        "success\n",
        "120"
       ]
      },
      {
       "output_type": "stream",
       "stream": "stdout",
       "text": [
        "\n",
        "success\n",
        "76"
       ]
      },
      {
       "output_type": "stream",
       "stream": "stdout",
       "text": [
        "\n",
        "success\n",
        "try step\n",
        "56"
       ]
      },
      {
       "output_type": "stream",
       "stream": "stdout",
       "text": [
        "\n",
        "success\n",
        "30"
       ]
      },
      {
       "output_type": "stream",
       "stream": "stdout",
       "text": [
        "\n",
        "success\n",
        "64"
       ]
      },
      {
       "output_type": "stream",
       "stream": "stdout",
       "text": [
        "\n",
        "success\n",
        "try step\n",
        "84"
       ]
      },
      {
       "output_type": "stream",
       "stream": "stdout",
       "text": [
        "\n",
        "success\n",
        "16\n",
        "success\n",
        "63"
       ]
      },
      {
       "output_type": "stream",
       "stream": "stdout",
       "text": [
        "\n",
        "success\n",
        "try step\n",
        "114"
       ]
      },
      {
       "output_type": "stream",
       "stream": "stdout",
       "text": [
        "\n",
        "success\n",
        "33"
       ]
      },
      {
       "output_type": "stream",
       "stream": "stdout",
       "text": [
        "\n",
        "success\n",
        "64"
       ]
      },
      {
       "output_type": "stream",
       "stream": "stdout",
       "text": [
        "\n",
        "success\n",
        "try step\n",
        "141"
       ]
      },
      {
       "output_type": "stream",
       "stream": "stdout",
       "text": [
        "\n",
        "success\n",
        "91"
       ]
      },
      {
       "output_type": "stream",
       "stream": "stdout",
       "text": [
        "\n",
        "success\n",
        "26"
       ]
      },
      {
       "output_type": "stream",
       "stream": "stdout",
       "text": [
        "\n",
        "success\n",
        "try step\n",
        "103"
       ]
      },
      {
       "output_type": "stream",
       "stream": "stdout",
       "text": [
        "\n",
        "success\n",
        "69"
       ]
      },
      {
       "output_type": "stream",
       "stream": "stdout",
       "text": [
        "\n",
        "success\n",
        "57"
       ]
      },
      {
       "output_type": "stream",
       "stream": "stdout",
       "text": [
        "\n",
        "success\n",
        "try step\n",
        "96"
       ]
      },
      {
       "output_type": "stream",
       "stream": "stdout",
       "text": [
        "\n",
        "success\n",
        "31"
       ]
      },
      {
       "output_type": "stream",
       "stream": "stdout",
       "text": [
        "\n",
        "success\n",
        "56"
       ]
      },
      {
       "output_type": "stream",
       "stream": "stdout",
       "text": [
        "\n",
        "success\n",
        "try step\n",
        "62"
       ]
      },
      {
       "output_type": "stream",
       "stream": "stdout",
       "text": [
        "\n",
        "success\n",
        "18\n",
        "success\n",
        "49"
       ]
      },
      {
       "output_type": "stream",
       "stream": "stdout",
       "text": [
        "\n",
        "success\n",
        "try step\n",
        "96"
       ]
      },
      {
       "output_type": "stream",
       "stream": "stdout",
       "text": [
        "\n",
        "success\n",
        "37"
       ]
      },
      {
       "output_type": "stream",
       "stream": "stdout",
       "text": [
        "\n",
        "success\n",
        "62"
       ]
      },
      {
       "output_type": "stream",
       "stream": "stdout",
       "text": [
        "\n",
        "success\n",
        "try step\n",
        "93"
       ]
      },
      {
       "output_type": "stream",
       "stream": "stdout",
       "text": [
        "\n",
        "success\n",
        "110"
       ]
      },
      {
       "output_type": "stream",
       "stream": "stdout",
       "text": [
        "\n",
        "success\n",
        "88"
       ]
      },
      {
       "output_type": "stream",
       "stream": "stdout",
       "text": [
        "\n",
        "success\n",
        "try step\n",
        "93"
       ]
      },
      {
       "output_type": "stream",
       "stream": "stdout",
       "text": [
        "\n",
        "success\n",
        "30"
       ]
      },
      {
       "output_type": "stream",
       "stream": "stdout",
       "text": [
        "\n",
        "success\n",
        "61"
       ]
      },
      {
       "output_type": "stream",
       "stream": "stdout",
       "text": [
        "\n",
        "success\n",
        "try step"
       ]
      },
      {
       "output_type": "stream",
       "stream": "stdout",
       "text": [
        "\n",
        "65"
       ]
      },
      {
       "output_type": "stream",
       "stream": "stdout",
       "text": [
        "\n",
        "success\n",
        "95"
       ]
      },
      {
       "output_type": "stream",
       "stream": "stdout",
       "text": [
        "\n",
        "success\n",
        "78"
       ]
      },
      {
       "output_type": "stream",
       "stream": "stdout",
       "text": [
        "\n",
        "success\n",
        "try step\n",
        "62"
       ]
      },
      {
       "output_type": "stream",
       "stream": "stdout",
       "text": [
        "\n",
        "success\n",
        "49"
       ]
      },
      {
       "output_type": "stream",
       "stream": "stdout",
       "text": [
        "\n",
        "success\n",
        "64"
       ]
      },
      {
       "output_type": "stream",
       "stream": "stdout",
       "text": [
        "\n",
        "success\n",
        "try step\n",
        "67"
       ]
      },
      {
       "output_type": "stream",
       "stream": "stdout",
       "text": [
        "\n",
        "success\n",
        "110"
       ]
      },
      {
       "output_type": "stream",
       "stream": "stdout",
       "text": [
        "\n",
        "success\n",
        "85"
       ]
      },
      {
       "output_type": "stream",
       "stream": "stdout",
       "text": [
        "\n",
        "success\n",
        "try step\n",
        "52"
       ]
      },
      {
       "output_type": "stream",
       "stream": "stdout",
       "text": [
        "\n",
        "success\n",
        "13\n",
        "success\n",
        "67"
       ]
      },
      {
       "output_type": "stream",
       "stream": "stdout",
       "text": [
        "\n",
        "success\n",
        "try step\n",
        "103"
       ]
      },
      {
       "output_type": "stream",
       "stream": "stdout",
       "text": [
        "\n",
        "success\n",
        "66"
       ]
      },
      {
       "output_type": "stream",
       "stream": "stdout",
       "text": [
        "\n",
        "success\n",
        "67"
       ]
      },
      {
       "output_type": "stream",
       "stream": "stdout",
       "text": [
        "\n",
        "success\n",
        "try step\n",
        "step\n"
       ]
      }
     ],
     "prompt_number": 154
    },
    {
     "cell_type": "code",
     "collapsed": false,
     "input": [
      "rr.do_route('355 berry st, san francisco', 3*1600)"
     ],
     "language": "python",
     "metadata": {},
     "outputs": []
    },
    {
     "cell_type": "code",
     "collapsed": false,
     "input": [
      "print rr.get_cost(rr.current_route)\n",
      "rr.update_folium_map()\n",
      "rr.run_map.create_map(path='stamen_toner.html')\n",
      "embed_map(rr.run_map)"
     ],
     "language": "python",
     "metadata": {},
     "outputs": [
      {
       "output_type": "stream",
       "stream": "stdout",
       "text": [
        "891.016627548\n"
       ]
      },
      {
       "html": [
        "<iframe src=\"files/map.html\" style=\"width: 600px; height: 600px; border: none\"></iframe>"
       ],
       "metadata": {},
       "output_type": "pyout",
       "prompt_number": 155,
       "text": [
        "<IPython.core.display.HTML at 0x107395a90>"
       ]
      }
     ],
     "prompt_number": 155
    }
   ],
   "metadata": {}
  }
 ]
}