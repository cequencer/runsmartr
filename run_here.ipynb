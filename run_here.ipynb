{
 "metadata": {
  "name": "",
  "signature": "sha256:7cce16bdbc7c0d25dab3d0d7aeef4063fa42ee55c25f18d100873112df3b17c7"
 },
 "nbformat": 3,
 "nbformat_minor": 0,
 "worksheets": [
  {
   "cells": [
    {
     "cell_type": "heading",
     "level": 3,
     "metadata": {},
     "source": [
      "Initial imports"
     ]
    },
    {
     "cell_type": "code",
     "collapsed": false,
     "input": [
      "%load_ext autoreload\n",
      "%autoreload 2\n",
      "%matplotlib inline"
     ],
     "language": "python",
     "metadata": {},
     "outputs": [
      {
       "output_type": "stream",
       "stream": "stdout",
       "text": [
        "The autoreload extension is already loaded. To reload it, use:\n",
        "  %reload_ext autoreload\n"
       ]
      }
     ],
     "prompt_number": 31
    },
    {
     "cell_type": "code",
     "collapsed": false,
     "input": [
      "import json\n",
      "from credentials import cred"
     ],
     "language": "python",
     "metadata": {},
     "outputs": [],
     "prompt_number": 32
    },
    {
     "cell_type": "heading",
     "level": 3,
     "metadata": {},
     "source": [
      "Initialize geocoder"
     ]
    },
    {
     "cell_type": "code",
     "collapsed": false,
     "input": [
      "import geopy.geocoders\n",
      "geocoder = geopy.geocoders.GoogleV3(**cred['google'])"
     ],
     "language": "python",
     "metadata": {},
     "outputs": [],
     "prompt_number": 33
    },
    {
     "cell_type": "markdown",
     "metadata": {},
     "source": [
      "geocoder example"
     ]
    },
    {
     "cell_type": "code",
     "collapsed": false,
     "input": [
      "address = 'edgewater apartments, san francisco'\n",
      "location = geocoder.geocode(address)\n",
      "latlng = ((location.latitude, location.longitude))\n",
      "print latlng"
     ],
     "language": "python",
     "metadata": {},
     "outputs": [
      {
       "output_type": "stream",
       "stream": "stdout",
       "text": [
        "(33.0140559, -96.7286925)\n"
       ]
      }
     ],
     "prompt_number": 34
    },
    {
     "cell_type": "heading",
     "level": 3,
     "metadata": {},
     "source": [
      "Create object to query my RunHere database"
     ]
    },
    {
     "cell_type": "code",
     "collapsed": false,
     "input": [
      "import runhere_queries as rh\n",
      "rh_db = rh.RunHereDB()"
     ],
     "language": "python",
     "metadata": {},
     "outputs": [],
     "prompt_number": 35
    },
    {
     "cell_type": "markdown",
     "metadata": {},
     "source": [
      "Initialize Folium Map"
     ]
    },
    {
     "cell_type": "code",
     "collapsed": false,
     "input": [
      "from IPython.display import HTML\n",
      "import folium\n",
      "def embed_map(map, path='map.html'):\n",
      "    map.create_map(path=path)\n",
      "    return HTML('<iframe src=\"files/{path}\" style=\"width: 600px; height: 600px; border: none\"></iframe>'.format(path=path))"
     ],
     "language": "python",
     "metadata": {},
     "outputs": [],
     "prompt_number": 36
    },
    {
     "cell_type": "heading",
     "level": 2,
     "metadata": {},
     "source": [
      "Validating Runs Records"
     ]
    },
    {
     "cell_type": "markdown",
     "metadata": {},
     "source": [
      "Criteria:\n",
      "(1) remains within 30 m of a highway\n",
      "[(2) has a major-axis length greater than some threshold\n",
      "(3) has a number of points greater than some threshold]"
     ]
    },
    {
     "cell_type": "heading",
     "level": 3,
     "metadata": {},
     "source": [
      "Some runs that meet (1)"
     ]
    },
    {
     "cell_type": "markdown",
     "metadata": {},
     "source": [
      "`query = '''\n",
      "SELECT COUNT(*)\n",
      "FROM routes_potrero_hill;'''\n",
      "print rh_db.query_raw(query)`"
     ]
    },
    {
     "cell_type": "markdown",
     "metadata": {},
     "source": [
      "`query = '''\n",
      "SELECT COUNT(*)\n",
      "FROM routes_potrero_hill, highways_buffered\n",
      "WHERE ST_Within(linestring, the_geom);'''\n",
      "print rh_db.query_raw(query)`"
     ]
    },
    {
     "cell_type": "code",
     "collapsed": false,
     "input": [
      "centroid, route = rh_db.fetch_valid_run(1)"
     ],
     "language": "python",
     "metadata": {},
     "outputs": [],
     "prompt_number": 37
    },
    {
     "cell_type": "heading",
     "level": 3,
     "metadata": {},
     "source": [
      "Some runs that do NOT meet (1)"
     ]
    },
    {
     "cell_type": "markdown",
     "metadata": {},
     "source": [
      "`map_sf = folium.Map(location=centroid, tiles='Stamen Toner',\n",
      "                    width=600, height=600, zoom_start=14)\n",
      "map_sf.geo_json(geo_str=rh_db.highways_buffered(),\n",
      "                fill_color='green')\n",
      "map_sf.geo_json(geo_str=route, line_color='red', line_weight=3)\n",
      "map_sf.create_map(path='stamen_toner.html')\n",
      "embed_map(map_sf)`"
     ]
    },
    {
     "cell_type": "markdown",
     "metadata": {},
     "source": [
      "`query = '''\n",
      "SELECT ST_AsGeoJSON(linestring)\n",
      "FROM routes_potrero_hill, highways_buffered\n",
      "WHERE NOT ST_Within(linestring, the_geom)\n",
      "LIMIT 1 OFFSET 20;'''\n",
      "runs = rh_db.query_raw(query)`"
     ]
    },
    {
     "cell_type": "markdown",
     "metadata": {},
     "source": [
      "Criterion (1) seems to give a lot of false negatives (buffer size 20 m).  Approximately 10% valid."
     ]
    },
    {
     "cell_type": "markdown",
     "metadata": {},
     "source": [
      "Increased buffer size to 30 m.  Still getting lots of false negatives, but approximately 40% of all routes are now considered valid, and the ones that miss actually seem to stray off the walkable roadway that OSM knows about (not just into someone's driveway), however usually only for a small portion of the run.  I can tweak this later, but it works well enough for now."
     ]
    },
    {
     "cell_type": "heading",
     "level": 2,
     "metadata": {},
     "source": [
      "Debug SGD Route-finding Algorithm"
     ]
    },
    {
     "cell_type": "code",
     "collapsed": false,
     "input": [
      "from runrouter import RunRouter\n",
      "rr = RunRouter()"
     ],
     "language": "python",
     "metadata": {},
     "outputs": [],
     "prompt_number": 38
    },
    {
     "cell_type": "markdown",
     "metadata": {},
     "source": [
      "rr.initialize_search('355 berry st, san francisco', 3*1600)"
     ]
    },
    {
     "cell_type": "markdown",
     "metadata": {},
     "source": [
      "rr.step()"
     ]
    },
    {
     "cell_type": "code",
     "collapsed": false,
     "input": [
      "rr.do_route('355 berry st, san francisco', 3*1600)"
     ],
     "language": "python",
     "metadata": {},
     "outputs": [
      {
       "output_type": "stream",
       "stream": "stdout",
       "text": [
        "success\n",
        "success\n",
        "success\n",
        "success"
       ]
      },
      {
       "output_type": "stream",
       "stream": "stdout",
       "text": [
        "\n",
        "success\n",
        "success\n",
        "try step\n",
        "step\n",
        "success"
       ]
      },
      {
       "output_type": "stream",
       "stream": "stdout",
       "text": [
        "\n",
        "success\n",
        "success\n",
        "try step"
       ]
      },
      {
       "output_type": "stream",
       "stream": "stdout",
       "text": [
        "\n",
        "step\n",
        "success"
       ]
      },
      {
       "output_type": "stream",
       "stream": "stdout",
       "text": [
        "\n",
        "success"
       ]
      },
      {
       "output_type": "stream",
       "stream": "stdout",
       "text": [
        "\n",
        "success\n",
        "try step"
       ]
      },
      {
       "output_type": "stream",
       "stream": "stdout",
       "text": [
        "\n",
        "success"
       ]
      },
      {
       "output_type": "stream",
       "stream": "stdout",
       "text": [
        "\n",
        "success\n",
        "success\n",
        "try step"
       ]
      },
      {
       "output_type": "stream",
       "stream": "stdout",
       "text": [
        "\n",
        "step\n",
        "route found within threshold"
       ]
      },
      {
       "output_type": "stream",
       "stream": "stdout",
       "text": [
        "\n"
       ]
      }
     ],
     "prompt_number": 53
    },
    {
     "cell_type": "code",
     "collapsed": false,
     "input": [
      "print rr.get_cost(rr.current_route)\n",
      "rr.update_folium_map()\n",
      "rr.run_map.create_map(path='stamen_toner.html')\n",
      "embed_map(rr.run_map)"
     ],
     "language": "python",
     "metadata": {},
     "outputs": [
      {
       "output_type": "stream",
       "stream": "stdout",
       "text": [
        "256.7226098\n"
       ]
      },
      {
       "html": [
        "<iframe src=\"files/map.html\" style=\"width: 600px; height: 600px; border: none\"></iframe>"
       ],
       "metadata": {},
       "output_type": "pyout",
       "prompt_number": 54,
       "text": [
        "<IPython.core.display.HTML at 0x12600a7d0>"
       ]
      }
     ],
     "prompt_number": 54
    }
   ],
   "metadata": {}
  }
 ]
}